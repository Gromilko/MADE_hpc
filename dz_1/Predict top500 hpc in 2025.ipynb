{
 "cells": [
  {
   "cell_type": "markdown",
   "metadata": {},
   "source": [
    "# Домашнее задание №1: Введение в HPC"
   ]
  },
  {
   "cell_type": "markdown",
   "metadata": {},
   "source": [
    "**Задание:** Используя данные с сайта top500.org (statistics/performance development) попробуйте предсказать вычислительную мощность компьютера #1 и компьютера #500."
   ]
  },
  {
   "cell_type": "code",
   "execution_count": 1,
   "metadata": {},
   "outputs": [],
   "source": [
    "import pandas as pd\n",
    "import numpy as np\n",
    "import matplotlib.pyplot as plt"
   ]
  },
  {
   "cell_type": "markdown",
   "metadata": {},
   "source": [
    "Из заранее созданного CSV-файла считываем о топ-1 и топ-500 компьютерах за все время.\n",
    "\n",
    "Скачать файл можно [тут]().\n",
    "\n",
    "Возпроизвести код по созданию этого файла можно из файла \"Parse top500 hpc.ipynb\" в [этом репозитории](url_here)."
   ]
  },
  {
   "cell_type": "code",
   "execution_count": 3,
   "metadata": {},
   "outputs": [
    {
     "data": {
      "text/html": [
       "<div>\n",
       "<style scoped>\n",
       "    .dataframe tbody tr th:only-of-type {\n",
       "        vertical-align: middle;\n",
       "    }\n",
       "\n",
       "    .dataframe tbody tr th {\n",
       "        vertical-align: top;\n",
       "    }\n",
       "\n",
       "    .dataframe thead th {\n",
       "        text-align: right;\n",
       "    }\n",
       "</style>\n",
       "<table border=\"1\" class=\"dataframe\">\n",
       "  <thead>\n",
       "    <tr style=\"text-align: right;\">\n",
       "      <th></th>\n",
       "      <th>data</th>\n",
       "      <th>#1 GFlop/s</th>\n",
       "      <th>#500 GFlop/s</th>\n",
       "      <th>Sum GFlop/s</th>\n",
       "    </tr>\n",
       "  </thead>\n",
       "  <tbody>\n",
       "    <tr>\n",
       "      <td>0</td>\n",
       "      <td>06/1993</td>\n",
       "      <td>59.7</td>\n",
       "      <td>0.422</td>\n",
       "      <td>1122.845</td>\n",
       "    </tr>\n",
       "    <tr>\n",
       "      <td>1</td>\n",
       "      <td>11/1993</td>\n",
       "      <td>124.0</td>\n",
       "      <td>0.472</td>\n",
       "      <td>1466.210</td>\n",
       "    </tr>\n",
       "    <tr>\n",
       "      <td>2</td>\n",
       "      <td>06/1994</td>\n",
       "      <td>143.4</td>\n",
       "      <td>0.822</td>\n",
       "      <td>2233.882</td>\n",
       "    </tr>\n",
       "    <tr>\n",
       "      <td>3</td>\n",
       "      <td>11/1994</td>\n",
       "      <td>170.0</td>\n",
       "      <td>1.114</td>\n",
       "      <td>2622.338</td>\n",
       "    </tr>\n",
       "    <tr>\n",
       "      <td>4</td>\n",
       "      <td>06/1995</td>\n",
       "      <td>170.0</td>\n",
       "      <td>1.955</td>\n",
       "      <td>3927.029</td>\n",
       "    </tr>\n",
       "  </tbody>\n",
       "</table>\n",
       "</div>"
      ],
      "text/plain": [
       "      data  #1 GFlop/s  #500 GFlop/s  Sum GFlop/s\n",
       "0  06/1993        59.7         0.422     1122.845\n",
       "1  11/1993       124.0         0.472     1466.210\n",
       "2  06/1994       143.4         0.822     2233.882\n",
       "3  11/1994       170.0         1.114     2622.338\n",
       "4  06/1995       170.0         1.955     3927.029"
      ]
     },
     "execution_count": 3,
     "metadata": {},
     "output_type": "execute_result"
    }
   ],
   "source": [
    "df = pd.read_csv('data_top500_hpc.csv', index_col=0)\n",
    "df.head()"
   ]
  },
  {
   "cell_type": "code",
   "execution_count": 4,
   "metadata": {},
   "outputs": [],
   "source": [
    "x_dates = df['data']\n",
    "\n",
    "y_1 = df['#1 GFlop/s']\n",
    "y_500 = df['#500 GFlop/s']\n",
    "y_sum = df['Sum GFlop/s']\n",
    "\n",
    "x = [i for i in range(len(y_1))]"
   ]
  },
  {
   "cell_type": "markdown",
   "metadata": {},
   "source": [
    "Построим график показывающий рост мошностей в зависимости от года. "
   ]
  },
  {
   "cell_type": "code",
   "execution_count": 31,
   "metadata": {},
   "outputs": [
    {
     "data": {
      "image/png": "[encoded data removed]",
      "text/plain": [
       "<Figure size 720x720 with 1 Axes>"
      ]
     },
     "metadata": {
      "needs_background": "light"
     },
     "output_type": "display_data"
    }
   ],
   "source": [
    "plt.figure(figsize=(10, 10))\n",
    "\n",
    "plt.plot(x_dates, y_sum, 'go')\n",
    "plt.plot(x_dates, y_1, 'r^')\n",
    "plt.plot(x_dates, y_500, 'bs')\n",
    "\n",
    "plt.title('Performance Development')\n",
    "plt.ylabel('GFlop/s')\n",
    "plt.yscale('log')\n",
    "plt.xticks(x_dates[::5], rotation=20)\n",
    "plt.grid(True)\n",
    "plt.show()"
   ]
  },
  {
   "cell_type": "markdown",
   "metadata": {},
   "source": [
    "Построим прямую приближенно показывающую рост вычислительных мощностей"
   ]
  },
  {
   "cell_type": "code",
   "execution_count": null,
   "metadata": {},
   "outputs": [],
   "source": [
    "# https://stackoverflow.com/questions/43837179/best-fit-line-on-log-log-scales-in-python-2-7/43838500"
   ]
  },
  {
   "cell_type": "code",
   "execution_count": 10,
   "metadata": {},
   "outputs": [],
   "source": [
    "m_1, c_1 = np.polyfit(x, np.log(y_1), 1)\n",
    "y_fit_1 = np.exp(m_1*np.array(x) + c_1)\n",
    "\n",
    "m_500, c_500 = np.polyfit(x, np.log(y_500), 1)\n",
    "y_fit_500 = np.exp(m_500*np.array(x) + c_500)\n",
    "\n",
    "m_sum, c_sum = np.polyfit(x, np.log(y_sum), 1)\n",
    "y_fit_sum = np.exp(m_sum*np.array(x) + c_sum)"
   ]
  },
  {
   "cell_type": "code",
   "execution_count": 30,
   "metadata": {},
   "outputs": [
    {
     "data": {
      "image/png": "[encoded data removed]",
      "text/plain": [
       "<Figure size 720x720 with 1 Axes>"
      ]
     },
     "metadata": {
      "needs_background": "light"
     },
     "output_type": "display_data"
    }
   ],
   "source": [
    "plt.figure(figsize=(10, 10))\n",
    "\n",
    "plt.plot(x_dates, y_sum, 'go')\n",
    "plt.plot(x_dates, y_1, 'r^')\n",
    "plt.plot(x_dates, y_500, 'bs')\n",
    "\n",
    "plt.plot(x_dates, y_fit_sum, 'g:')\n",
    "plt.plot(x_dates, y_fit_1, 'r:')\n",
    "plt.plot(x_dates, y_fit_500, 'b:')\n",
    "\n",
    "plt.title('Projected Performance Development')\n",
    "plt.ylabel('GFlop/s')\n",
    "plt.yscale('log')\n",
    "plt.xticks(x_dates[::5], rotation=20)\n",
    "plt.grid(True)\n",
    "plt.show()"
   ]
  },
  {
   "cell_type": "markdown",
   "metadata": {},
   "source": [
    "Попробуем предугадать рост вычислительных мощностей до 2025 года.\n",
    "\n",
    "В прогнозе мы используем не само значение даты, а порядковый номер периода, значит нам нужно сделать прогноз на 55 - 65 периоды"
   ]
  },
  {
   "cell_type": "code",
   "execution_count": 32,
   "metadata": {},
   "outputs": [
    {
     "data": {
      "text/plain": [
       "[(50, '06/2018'),\n",
       " (51, '11/2018'),\n",
       " (52, '06/2019'),\n",
       " (53, '11/2019'),\n",
       " (54, '06/2020')]"
      ]
     },
     "execution_count": 32,
     "metadata": {},
     "output_type": "execute_result"
    }
   ],
   "source": [
    "# актуальные данные\n",
    "[(i, x) for i, x in enumerate(x_dates)][-5:]"
   ]
  },
  {
   "cell_type": "code",
   "execution_count": 33,
   "metadata": {},
   "outputs": [],
   "source": [
    "# период на который нужно сделать прогноз\n",
    "\n",
    "# 11/2020 - 55\n",
    "# 06/2021 - 56\n",
    "# 11/2021 - 57\n",
    "# 06/2022 - 58\n",
    "# 11/2022 - 59\n",
    "# 06/2023 - 60\n",
    "# 11/2023 - 61\n",
    "# 06/2024 - 62\n",
    "# 11/2024 - 63\n",
    "# 06/2025 - 64\n",
    "# 11/2025 - 65"
   ]
  },
  {
   "cell_type": "code",
   "execution_count": 34,
   "metadata": {},
   "outputs": [],
   "source": [
    "pred_x = [55, 56, 57, 58, 59, 60, 61, 62, 63, 64, 65]"
   ]
  },
  {
   "cell_type": "code",
   "execution_count": 35,
   "metadata": {},
   "outputs": [],
   "source": [
    "y_pred_1 = np.exp(m_1*np.array(pred_x) + c_1)/1000000\n",
    "y_pred_500 = np.exp(m_500*np.array(pred_x) + c_500)/1000000\n",
    "y_pred_sum = np.exp(m_sum*np.array(pred_x) + c_sum)/1000000"
   ]
  },
  {
   "cell_type": "code",
   "execution_count": 36,
   "metadata": {},
   "outputs": [],
   "source": [
    "predict_data = {\n",
    "    'data': ['11/2020', '06/2021', '11/2021', '06/2022', '11/2022', '06/2023', '11/2023', '06/2024', '11/2024', '06/2025', '11/2025'],\n",
    "    '#1 PFlop/s': y_pred_1,\n",
    "    '#500 PFlop/s': y_pred_500,\n",
    "    'Sum PFlop/s': y_pred_sum,\n",
    "}"
   ]
  },
  {
   "cell_type": "code",
   "execution_count": 37,
   "metadata": {},
   "outputs": [
    {
     "data": {
      "text/html": [
       "<div>\n",
       "<style scoped>\n",
       "    .dataframe tbody tr th:only-of-type {\n",
       "        vertical-align: middle;\n",
       "    }\n",
       "\n",
       "    .dataframe tbody tr th {\n",
       "        vertical-align: top;\n",
       "    }\n",
       "\n",
       "    .dataframe thead th {\n",
       "        text-align: right;\n",
       "    }\n",
       "</style>\n",
       "<table border=\"1\" class=\"dataframe\">\n",
       "  <thead>\n",
       "    <tr style=\"text-align: right;\">\n",
       "      <th></th>\n",
       "      <th>data</th>\n",
       "      <th>#1 PFlop/s</th>\n",
       "      <th>#500 PFlop/s</th>\n",
       "      <th>Sum PFlop/s</th>\n",
       "    </tr>\n",
       "  </thead>\n",
       "  <tbody>\n",
       "    <tr>\n",
       "      <td>0</td>\n",
       "      <td>11/2020</td>\n",
       "      <td>1020.097868</td>\n",
       "      <td>5.031130</td>\n",
       "      <td>7889.299579</td>\n",
       "    </tr>\n",
       "    <tr>\n",
       "      <td>1</td>\n",
       "      <td>06/2021</td>\n",
       "      <td>1375.808429</td>\n",
       "      <td>6.683232</td>\n",
       "      <td>10456.597343</td>\n",
       "    </tr>\n",
       "    <tr>\n",
       "      <td>2</td>\n",
       "      <td>11/2021</td>\n",
       "      <td>1855.556110</td>\n",
       "      <td>8.877845</td>\n",
       "      <td>13859.332745</td>\n",
       "    </tr>\n",
       "    <tr>\n",
       "      <td>3</td>\n",
       "      <td>06/2022</td>\n",
       "      <td>2502.592952</td>\n",
       "      <td>11.793115</td>\n",
       "      <td>18369.369867</td>\n",
       "    </tr>\n",
       "    <tr>\n",
       "      <td>4</td>\n",
       "      <td>11/2022</td>\n",
       "      <td>3375.253084</td>\n",
       "      <td>15.665691</td>\n",
       "      <td>24347.041485</td>\n",
       "    </tr>\n",
       "    <tr>\n",
       "      <td>5</td>\n",
       "      <td>06/2023</td>\n",
       "      <td>4552.211887</td>\n",
       "      <td>20.809926</td>\n",
       "      <td>32269.938129</td>\n",
       "    </tr>\n",
       "    <tr>\n",
       "      <td>6</td>\n",
       "      <td>11/2023</td>\n",
       "      <td>6139.579031</td>\n",
       "      <td>27.643405</td>\n",
       "      <td>42771.065532</td>\n",
       "    </tr>\n",
       "    <tr>\n",
       "      <td>7</td>\n",
       "      <td>06/2024</td>\n",
       "      <td>8280.464886</td>\n",
       "      <td>36.720833</td>\n",
       "      <td>56689.419093</td>\n",
       "    </tr>\n",
       "    <tr>\n",
       "      <td>8</td>\n",
       "      <td>11/2024</td>\n",
       "      <td>11167.882745</td>\n",
       "      <td>48.779071</td>\n",
       "      <td>75137.016046</td>\n",
       "    </tr>\n",
       "    <tr>\n",
       "      <td>9</td>\n",
       "      <td>06/2025</td>\n",
       "      <td>15062.150100</td>\n",
       "      <td>64.796943</td>\n",
       "      <td>99587.740897</td>\n",
       "    </tr>\n",
       "    <tr>\n",
       "      <td>10</td>\n",
       "      <td>11/2025</td>\n",
       "      <td>20314.357772</td>\n",
       "      <td>86.074698</td>\n",
       "      <td>131995.102532</td>\n",
       "    </tr>\n",
       "  </tbody>\n",
       "</table>\n",
       "</div>"
      ],
      "text/plain": [
       "       data    #1 PFlop/s  #500 PFlop/s    Sum PFlop/s\n",
       "0   11/2020   1020.097868      5.031130    7889.299579\n",
       "1   06/2021   1375.808429      6.683232   10456.597343\n",
       "2   11/2021   1855.556110      8.877845   13859.332745\n",
       "3   06/2022   2502.592952     11.793115   18369.369867\n",
       "4   11/2022   3375.253084     15.665691   24347.041485\n",
       "5   06/2023   4552.211887     20.809926   32269.938129\n",
       "6   11/2023   6139.579031     27.643405   42771.065532\n",
       "7   06/2024   8280.464886     36.720833   56689.419093\n",
       "8   11/2024  11167.882745     48.779071   75137.016046\n",
       "9   06/2025  15062.150100     64.796943   99587.740897\n",
       "10  11/2025  20314.357772     86.074698  131995.102532"
      ]
     },
     "execution_count": 37,
     "metadata": {},
     "output_type": "execute_result"
    }
   ],
   "source": [
    "df = pd.DataFrame(predict_data)\n",
    "df"
   ]
  },
  {
   "cell_type": "code",
   "execution_count": null,
   "metadata": {},
   "outputs": [],
   "source": []
  }
 ],
 "metadata": {
  "kernelspec": {
   "display_name": "Python 3",
   "language": "python",
   "name": "python3"
  },
  "language_info": {
   "codemirror_mode": {
    "name": "ipython",
    "version": 3
   },
   "file_extension": ".py",
   "mimetype": "text/x-python",
   "name": "python",
   "nbconvert_exporter": "python",
   "pygments_lexer": "ipython3",
   "version": "3.7.4"
  }
 },
 "nbformat": 4,
 "nbformat_minor": 2
}
