{
 "cells": [
  {
   "cell_type": "markdown",
   "metadata": {},
   "source": [
    "# Создаем CSV-файл с данными о топ-1 и топ-500 компьютерах за все время."
   ]
  },
  {
   "cell_type": "markdown",
   "metadata": {},
   "source": [
    "На сайте https://top500.org нет сводной статистики за все время. Есть только данные за июнь и ноябрь месяц каждого года начиная с 1993. Спарсим информацию из этих файлов и объединим ее в один."
   ]
  },
  {
   "cell_type": "code",
   "execution_count": null,
   "metadata": {},
   "outputs": [],
   "source": [
    "import pandas as pd\n",
    "import os\n",
    "import matplotlib.pyplot as plt"
   ]
  },
  {
   "cell_type": "markdown",
   "metadata": {},
   "source": [
    "Скачать файлы можно только автризовавшись на сайте. Чтобы не писать парсер авторизующийся на сайте, сделаем следующее: \n",
    "* авторизуемся на сайте в браузере по умолчанию\n",
    "* сгенерируем ссылки на все файлы с рейтингами суперкомпьютеров\n",
    "* Прокликаем по ссылкам и сохраним все файлы в папке data"
   ]
  },
  {
   "cell_type": "code",
   "execution_count": null,
   "metadata": {
    "scrolled": true
   },
   "outputs": [],
   "source": [
    "for year in range(1993, 2021):\n",
    "    for mounth in ['06', '11']:\n",
    "        wget_str = f'https://top500.org/lists/top500/{year}/{mounth}/download/TOP500_{year}{mounth}.xls'\n",
    "        if year == 2020 and mounth == '06':\n",
    "            print(wget_str + 'x')\n",
    "        elif year == 2020 and mounth == '11':\n",
    "            # закончились данные\n",
    "            break\n",
    "        else:\n",
    "            print(wget_str)"
   ]
  },
  {
   "cell_type": "code",
   "execution_count": null,
   "metadata": {},
   "outputs": [],
   "source": [
    "data_list = sorted(os.listdir('data'))\n",
    "# data_list[:5], data_list[-5:]"
   ]
  },
  {
   "cell_type": "markdown",
   "metadata": {},
   "source": [
    "Соберем исторические данные о топ-1, топ-500 и суммарной мощности в отдельные списки.\n",
    "\n",
    "Файлы имеют разный индекс у заголовка и отличаются названияим целевого столбца, поэтому обрабатываем файлы в четырех циклах."
   ]
  },
  {
   "cell_type": "code",
   "execution_count": null,
   "metadata": {
    "scrolled": true
   },
   "outputs": [],
   "source": [
    "data_1 = []\n",
    "data_500 = []\n",
    "data_sum = []\n",
    "\n",
    "for i in range(30):\n",
    "    df = pd.read_excel(os.path.join('data', data_list[i]), header=1, index_col=0)\n",
    "    data_1.append((f'{data_list[i][11:13]}/{data_list[i][7:11]}', df['RMax'].iloc[0]))\n",
    "    data_500.append((f'{data_list[i][11:13]}/{data_list[i][7:11]}', df['RMax'].iloc[-1]))\n",
    "    data_sum.append((f'{data_list[i][11:13]}/{data_list[i][7:11]}', df['RMax'].sum()))\n",
    "    \n",
    "for i in range(30, 37):\n",
    "    df = pd.read_excel(os.path.join('data', data_list[i]), header=0, index_col=0)\n",
    "    data_1.append((f'{data_list[i][11:13]}/{data_list[i][7:11]}', df['RMax'].iloc[0]))\n",
    "    data_500.append((f'{data_list[i][11:13]}/{data_list[i][7:11]}', df['RMax'].iloc[-1]))\n",
    "    data_sum.append((f'{data_list[i][11:13]}/{data_list[i][7:11]}', df['RMax'].sum()))\n",
    "    \n",
    "for i in range(37, 48):\n",
    "    df = pd.read_excel(os.path.join('data', data_list[i]), header=0, index_col=0)\n",
    "    data_1.append((f'{data_list[i][11:13]}/{data_list[i][7:11]}', df['Rmax'].iloc[0]))\n",
    "    data_500.append((f'{data_list[i][11:13]}/{data_list[i][7:11]}', df['Rmax'].iloc[-1]))\n",
    "    data_sum.append((f'{data_list[i][11:13]}/{data_list[i][7:11]}', df['Rmax'].sum()))\n",
    "    \n",
    "for i in range(48, 55):\n",
    "    df = pd.read_excel(os.path.join('data', data_list[i]), header=0, index_col=0)\n",
    "    data_1.append((f'{data_list[i][11:13]}/{data_list[i][7:11]}', df['Rmax [TFlop/s]'].iloc[0]*1000))\n",
    "    data_500.append((f'{data_list[i][11:13]}/{data_list[i][7:11]}', df['Rmax [TFlop/s]'].iloc[-1]*1000))\n",
    "    data_sum.append((f'{data_list[i][11:13]}/{data_list[i][7:11]}', df['Rmax [TFlop/s]'].sum()*1000))\n",
    "    "
   ]
  },
  {
   "cell_type": "markdown",
   "metadata": {},
   "source": [
    "Собираем данные в pandas DataFrame и созраняем с CSV формате."
   ]
  },
  {
   "cell_type": "code",
   "execution_count": null,
   "metadata": {},
   "outputs": [],
   "source": [
    "parse_data = {\n",
    "    'data': [i[0] for i in data_1],\n",
    "    '#1 GFlop/s': [i[1] for i in data_1],\n",
    "    '#500 GFlop/s': [i[1] for i in data_500],\n",
    "    'Sum GFlop/s': [i[1] for i in data_sum],\n",
    "}"
   ]
  },
  {
   "cell_type": "code",
   "execution_count": null,
   "metadata": {},
   "outputs": [],
   "source": [
    "df = pd.DataFrame(parse_data)\n",
    "df.head()"
   ]
  },
  {
   "cell_type": "code",
   "execution_count": null,
   "metadata": {},
   "outputs": [],
   "source": [
    "df.to_csv('data_top500_hpc.csv')"
   ]
  },
  {
   "cell_type": "code",
   "execution_count": null,
   "metadata": {},
   "outputs": [],
   "source": []
  }
 ],
 "metadata": {
  "kernelspec": {
   "display_name": "Python 3",
   "language": "python",
   "name": "python3"
  },
  "language_info": {
   "codemirror_mode": {
    "name": "ipython",
    "version": 3
   },
   "file_extension": ".py",
   "mimetype": "text/x-python",
   "name": "python",
   "nbconvert_exporter": "python",
   "pygments_lexer": "ipython3",
   "version": "3.7.4"
  }
 },
 "nbformat": 4,
 "nbformat_minor": 2
}
